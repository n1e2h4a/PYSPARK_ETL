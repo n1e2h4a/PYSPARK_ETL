{
 "cells": [
  {
   "cell_type": "code",
   "execution_count": 19,
   "metadata": {},
   "outputs": [],
   "source": [
    "from pyspark.sql.functions import hour,minute,second,col,avg,when\n",
    "\n",
    "import pyspark.sql.functions as sql_functions\n",
    "from pyspark.sql import SQLContext\n",
    "import datetime\n",
    "sqlContext = SQLContext(sc)"
   ]
  },
  {
   "cell_type": "code",
   "execution_count": 8,
   "metadata": {},
   "outputs": [],
   "source": [
    "df = sqlContext.read.csv(\"hdfs://localhost:54310/user/hive/warehouse/log_data/log_data.csv\",header = True, inferSchema = True)"
   ]
  },
  {
   "cell_type": "code",
   "execution_count": 9,
   "metadata": {},
   "outputs": [
    {
     "name": "stdout",
     "output_type": "stream",
     "text": [
      "+--------------------+-------------------+-------------------+-------------------+-------------------+\n",
      "|           user_name|          idle_time|      working_hours|         start_time|           end_time|\n",
      "+--------------------+-------------------+-------------------+-------------------+-------------------+\n",
      "|  sahil24c@gmail.com|2019-10-24 05:05:00|2019-10-24 05:50:00|2019-10-24 08:30:02|2019-10-24 19:25:02|\n",
      "|magadum.iranna@gm...|2019-10-24 02:15:00|2019-10-24 08:39:59|2019-10-24 08:30:02|2019-10-24 19:25:01|\n",
      "|  yathink3@gmail.com|2019-10-24 01:30:00|2019-10-24 09:24:59|2019-10-24 08:30:02|2019-10-24 19:25:01|\n",
      "|  shelkeva@gmail.com|2019-10-24 00:30:00|2019-10-24 09:10:01|2019-10-24 08:45:01|2019-10-24 18:25:02|\n",
      "|puruissimple@gmai...|2019-10-24 03:15:00|2019-10-24 07:19:59|2019-10-24 08:50:02|2019-10-24 19:25:01|\n",
      "|sangita.awaghad19...|2019-10-24 01:55:00|2019-10-24 08:40:00|2019-10-24 08:50:01|2019-10-24 19:25:01|\n",
      "|vaishusawant143@g...|2019-10-24 00:35:00|2019-10-24 09:55:00|2019-10-24 08:55:01|2019-10-24 19:25:01|\n",
      "|     you@example.com|2019-10-24 02:35:00|2019-10-24 08:04:59|2019-10-24 08:45:02|2019-10-24 19:25:01|\n",
      "+--------------------+-------------------+-------------------+-------------------+-------------------+\n",
      "only showing top 8 rows\n",
      "\n"
     ]
    }
   ],
   "source": [
    "df.show(8)"
   ]
  },
  {
   "cell_type": "code",
   "execution_count": 36,
   "metadata": {},
   "outputs": [
    {
     "name": "stdout",
     "output_type": "stream",
     "text": [
      "+--------------------+-------------------+-------------------+-------------------+-------------------+\n",
      "|           user_name|          idle_time|      working_hours|         start_time|           end_time|\n",
      "+--------------------+-------------------+-------------------+-------------------+-------------------+\n",
      "|  rr582619@gmail.con|2019-10-24 00:00:00|2019-10-24 09:50:00|2019-10-24 09:35:01|2019-10-24 19:25:01|\n",
      "| addyp1911@gmail.com|2019-10-24 03:10:00|2019-10-24 06:40:00|2019-10-24 09:35:02|2019-10-24 19:25:02|\n",
      "|rohitsarate1027@g...|2019-10-24 00:00:00|2019-10-24 09:50:01|2019-10-24 09:35:01|2019-10-24 19:25:02|\n",
      "|dipakalagate1991@...|2019-10-24 03:10:00|2019-10-24 05:15:01|2019-10-24 09:35:01|2019-10-24 18:00:02|\n",
      "|shibadattanayak@g...|2019-10-24 00:00:00|2019-10-24 09:45:01|2019-10-24 09:35:01|2019-10-24 19:20:02|\n",
      "|durganath123@outl...|2019-10-24 01:15:00|2019-10-24 08:29:59|2019-10-24 09:40:02|2019-10-24 19:25:01|\n",
      "|vaibhavkhadke@gma...|2019-10-24 00:00:00|2019-10-24 09:39:59|2019-10-24 09:45:02|2019-10-24 19:25:01|\n",
      "|gaikwadr576@gmail...|2019-10-24 03:05:00|2019-10-24 06:30:00|2019-10-24 09:50:01|2019-10-24 19:25:01|\n",
      "|kalyani24deobhank...|2019-10-24 01:30:00|2019-10-24 08:05:00|2019-10-24 09:50:01|2019-10-24 19:25:01|\n",
      "|dilipsoni199566@g...|2019-10-24 00:55:00|2019-10-24 08:40:01|2019-10-24 09:50:01|2019-10-24 19:25:02|\n",
      "|surajwarbhuvan192...|2019-10-24 00:30:00|2019-10-24 09:00:00|2019-10-24 09:55:01|2019-10-24 19:25:01|\n",
      "|tekina.makin@gmai...|2019-10-24 09:25:00|2019-10-24 00:10:00|2019-10-24 09:50:01|2019-10-24 19:25:01|\n",
      "|priyankagandhi250...|2019-10-24 00:25:00|2019-10-24 09:15:00|2019-10-24 09:45:01|2019-10-24 19:25:01|\n",
      "|mishrasushil889@g...|2019-10-24 03:30:00|2019-10-24 05:59:59|2019-10-24 09:55:02|2019-10-24 19:25:01|\n",
      "| blsonalib@gmail.com|2019-10-24 02:35:00|2019-10-24 07:05:00|2019-10-24 09:40:01|2019-10-24 19:20:01|\n",
      "|manoj.ks.24.mk@gm...|2019-10-24 00:00:00|2019-10-24 09:05:10|2019-10-24 09:40:01|2019-10-24 18:45:11|\n",
      "|hakepratiksha55@g...|2019-10-24 09:25:00|2019-10-24 00:05:00|2019-10-24 09:55:01|2019-10-24 19:25:01|\n",
      "|vaibhavpratihar17...|2019-10-24 02:50:00|2019-10-24 06:30:00|2019-10-24 10:00:01|2019-10-24 19:20:01|\n",
      "|rawatabhishek2012...|2019-10-24 00:00:00|2019-10-24 09:20:00|2019-10-24 10:00:01|2019-10-24 19:20:01|\n",
      "|indrajeetgajbhiye...|2019-10-24 00:00:00|2019-10-24 08:50:00|2019-10-24 09:55:01|2019-10-24 18:45:01|\n",
      "+--------------------+-------------------+-------------------+-------------------+-------------------+\n",
      "only showing top 20 rows\n",
      "\n"
     ]
    }
   ],
   "source": [
    "start_time1 = df.filter(sql_functions.col('start_time') > '2019-10-24 09:30:02')\n",
    "start_time1.show()"
   ]
  },
  {
   "cell_type": "code",
   "execution_count": 39,
   "metadata": {},
   "outputs": [
    {
     "name": "stdout",
     "output_type": "stream",
     "text": [
      "+--------------------+-------------------+\n",
      "|           user_name|         start_time|\n",
      "+--------------------+-------------------+\n",
      "|  rr582619@gmail.con|2019-10-24 09:35:01|\n",
      "| addyp1911@gmail.com|2019-10-24 09:35:02|\n",
      "|rohitsarate1027@g...|2019-10-24 09:35:01|\n",
      "|dipakalagate1991@...|2019-10-24 09:35:01|\n",
      "|shibadattanayak@g...|2019-10-24 09:35:01|\n",
      "|durganath123@outl...|2019-10-24 09:40:02|\n",
      "|vaibhavkhadke@gma...|2019-10-24 09:45:02|\n",
      "|gaikwadr576@gmail...|2019-10-24 09:50:01|\n",
      "|kalyani24deobhank...|2019-10-24 09:50:01|\n",
      "|dilipsoni199566@g...|2019-10-24 09:50:01|\n",
      "|surajwarbhuvan192...|2019-10-24 09:55:01|\n",
      "|tekina.makin@gmai...|2019-10-24 09:50:01|\n",
      "|priyankagandhi250...|2019-10-24 09:45:01|\n",
      "|mishrasushil889@g...|2019-10-24 09:55:02|\n",
      "| blsonalib@gmail.com|2019-10-24 09:40:01|\n",
      "|manoj.ks.24.mk@gm...|2019-10-24 09:40:01|\n",
      "|hakepratiksha55@g...|2019-10-24 09:55:01|\n",
      "|vaibhavpratihar17...|2019-10-24 10:00:01|\n",
      "|rawatabhishek2012...|2019-10-24 10:00:01|\n",
      "|indrajeetgajbhiye...|2019-10-24 09:55:01|\n",
      "+--------------------+-------------------+\n",
      "only showing top 20 rows\n",
      "\n"
     ]
    }
   ],
   "source": [
    "j=start_time1.select('user_name','start_time')\n",
    "j.show()"
   ]
  },
  {
   "cell_type": "code",
   "execution_count": 40,
   "metadata": {},
   "outputs": [],
   "source": [
    "df1 = j.withColumn('hours', hour(j['start_time']))"
   ]
  },
  {
   "cell_type": "code",
   "execution_count": 41,
   "metadata": {},
   "outputs": [
    {
     "name": "stdout",
     "output_type": "stream",
     "text": [
      "+--------------------+-----+\n",
      "|           user_name|hours|\n",
      "+--------------------+-----+\n",
      "|  rr582619@gmail.con|    9|\n",
      "| addyp1911@gmail.com|    9|\n",
      "|rohitsarate1027@g...|    9|\n",
      "|dipakalagate1991@...|    9|\n",
      "|shibadattanayak@g...|    9|\n",
      "|durganath123@outl...|    9|\n",
      "|vaibhavkhadke@gma...|    9|\n",
      "|gaikwadr576@gmail...|    9|\n",
      "|kalyani24deobhank...|    9|\n",
      "|dilipsoni199566@g...|    9|\n",
      "|surajwarbhuvan192...|    9|\n",
      "|tekina.makin@gmai...|    9|\n",
      "|priyankagandhi250...|    9|\n",
      "|mishrasushil889@g...|    9|\n",
      "| blsonalib@gmail.com|    9|\n",
      "|manoj.ks.24.mk@gm...|    9|\n",
      "|hakepratiksha55@g...|    9|\n",
      "|vaibhavpratihar17...|   10|\n",
      "|rawatabhishek2012...|   10|\n",
      "|indrajeetgajbhiye...|    9|\n",
      "+--------------------+-----+\n",
      "only showing top 20 rows\n",
      "\n"
     ]
    }
   ],
   "source": [
    "x = df1.select('user_name','hours')\n",
    "x.show()"
   ]
  },
  {
   "cell_type": "code",
   "execution_count": 42,
   "metadata": {},
   "outputs": [
    {
     "name": "stdout",
     "output_type": "stream",
     "text": [
      "+--------------------+-----+-----+\n",
      "|           user_name|hours|  h_s|\n",
      "+--------------------+-----+-----+\n",
      "|  rr582619@gmail.con|    9|32400|\n",
      "| addyp1911@gmail.com|    9|32400|\n",
      "|rohitsarate1027@g...|    9|32400|\n",
      "|dipakalagate1991@...|    9|32400|\n",
      "|shibadattanayak@g...|    9|32400|\n",
      "|durganath123@outl...|    9|32400|\n",
      "|vaibhavkhadke@gma...|    9|32400|\n",
      "|gaikwadr576@gmail...|    9|32400|\n",
      "|kalyani24deobhank...|    9|32400|\n",
      "|dilipsoni199566@g...|    9|32400|\n",
      "|surajwarbhuvan192...|    9|32400|\n",
      "|tekina.makin@gmai...|    9|32400|\n",
      "|priyankagandhi250...|    9|32400|\n",
      "|mishrasushil889@g...|    9|32400|\n",
      "| blsonalib@gmail.com|    9|32400|\n",
      "|manoj.ks.24.mk@gm...|    9|32400|\n",
      "|hakepratiksha55@g...|    9|32400|\n",
      "|vaibhavpratihar17...|   10|36000|\n",
      "|rawatabhishek2012...|   10|36000|\n",
      "|indrajeetgajbhiye...|    9|32400|\n",
      "+--------------------+-----+-----+\n",
      "only showing top 20 rows\n",
      "\n"
     ]
    }
   ],
   "source": [
    "x = x.withColumn('h_s', x['hours'] * 3600)\n",
    "x.show()"
   ]
  },
  {
   "cell_type": "code",
   "execution_count": 43,
   "metadata": {},
   "outputs": [],
   "source": [
    "df2 = j.withColumn('min', minute(j['start_time']))"
   ]
  },
  {
   "cell_type": "code",
   "execution_count": 47,
   "metadata": {},
   "outputs": [],
   "source": [
    "Z = df2.select('user_name','min')"
   ]
  },
  {
   "cell_type": "code",
   "execution_count": 48,
   "metadata": {},
   "outputs": [
    {
     "name": "stdout",
     "output_type": "stream",
     "text": [
      "+--------------------+---+----+\n",
      "|           user_name|min| m_s|\n",
      "+--------------------+---+----+\n",
      "|  rr582619@gmail.con| 35|2100|\n",
      "| addyp1911@gmail.com| 35|2100|\n",
      "|rohitsarate1027@g...| 35|2100|\n",
      "|dipakalagate1991@...| 35|2100|\n",
      "|shibadattanayak@g...| 35|2100|\n",
      "|durganath123@outl...| 40|2400|\n",
      "|vaibhavkhadke@gma...| 45|2700|\n",
      "|gaikwadr576@gmail...| 50|3000|\n",
      "|kalyani24deobhank...| 50|3000|\n",
      "|dilipsoni199566@g...| 50|3000|\n",
      "|surajwarbhuvan192...| 55|3300|\n",
      "|tekina.makin@gmai...| 50|3000|\n",
      "|priyankagandhi250...| 45|2700|\n",
      "|mishrasushil889@g...| 55|3300|\n",
      "| blsonalib@gmail.com| 40|2400|\n",
      "|manoj.ks.24.mk@gm...| 40|2400|\n",
      "|hakepratiksha55@g...| 55|3300|\n",
      "|vaibhavpratihar17...|  0|   0|\n",
      "|rawatabhishek2012...|  0|   0|\n",
      "|indrajeetgajbhiye...| 55|3300|\n",
      "+--------------------+---+----+\n",
      "only showing top 20 rows\n",
      "\n"
     ]
    }
   ],
   "source": [
    "Z = Z.withColumn('m_s', Z['min'] * 60)\n",
    "Z.show()"
   ]
  },
  {
   "cell_type": "code",
   "execution_count": 28,
   "metadata": {},
   "outputs": [],
   "source": [
    "df3 = start_time1.withColumn('sec', second(start_time1['start_time']))"
   ]
  },
  {
   "cell_type": "code",
   "execution_count": 49,
   "metadata": {},
   "outputs": [
    {
     "name": "stdout",
     "output_type": "stream",
     "text": [
      "+--------------------+---+\n",
      "|           user_name|sec|\n",
      "+--------------------+---+\n",
      "|  rr582619@gmail.con|  1|\n",
      "| addyp1911@gmail.com|  2|\n",
      "|rohitsarate1027@g...|  1|\n",
      "|dipakalagate1991@...|  1|\n",
      "|shibadattanayak@g...|  1|\n",
      "|durganath123@outl...|  2|\n",
      "|vaibhavkhadke@gma...|  2|\n",
      "|gaikwadr576@gmail...|  1|\n",
      "|kalyani24deobhank...|  1|\n",
      "|dilipsoni199566@g...|  1|\n",
      "|surajwarbhuvan192...|  1|\n",
      "|tekina.makin@gmai...|  1|\n",
      "|priyankagandhi250...|  1|\n",
      "|mishrasushil889@g...|  2|\n",
      "| blsonalib@gmail.com|  1|\n",
      "|manoj.ks.24.mk@gm...|  1|\n",
      "|hakepratiksha55@g...|  1|\n",
      "|vaibhavpratihar17...|  1|\n",
      "|rawatabhishek2012...|  1|\n",
      "|indrajeetgajbhiye...|  1|\n",
      "+--------------------+---+\n",
      "only showing top 20 rows\n",
      "\n"
     ]
    }
   ],
   "source": [
    "k = df3.select('user_name','sec')\n",
    "k.show()"
   ]
  },
  {
   "cell_type": "code",
   "execution_count": 50,
   "metadata": {},
   "outputs": [
    {
     "name": "stdout",
     "output_type": "stream",
     "text": [
      "+--------------------+-----+-----+---+----+\n",
      "|           user_name|hours|  h_s|min| m_s|\n",
      "+--------------------+-----+-----+---+----+\n",
      "|  rr582619@gmail.con|    9|32400| 35|2100|\n",
      "| addyp1911@gmail.com|    9|32400| 35|2100|\n",
      "|rohitsarate1027@g...|    9|32400| 35|2100|\n",
      "|dipakalagate1991@...|    9|32400| 35|2100|\n",
      "|shibadattanayak@g...|    9|32400| 35|2100|\n",
      "|durganath123@outl...|    9|32400| 40|2400|\n",
      "|vaibhavkhadke@gma...|    9|32400| 45|2700|\n",
      "|gaikwadr576@gmail...|    9|32400| 50|3000|\n",
      "|kalyani24deobhank...|    9|32400| 50|3000|\n",
      "|dilipsoni199566@g...|    9|32400| 50|3000|\n",
      "|surajwarbhuvan192...|    9|32400| 55|3300|\n",
      "|tekina.makin@gmai...|    9|32400| 50|3000|\n",
      "|priyankagandhi250...|    9|32400| 45|2700|\n",
      "|mishrasushil889@g...|    9|32400| 55|3300|\n",
      "| blsonalib@gmail.com|    9|32400| 40|2400|\n",
      "|manoj.ks.24.mk@gm...|    9|32400| 40|2400|\n",
      "|hakepratiksha55@g...|    9|32400| 55|3300|\n",
      "|vaibhavpratihar17...|   10|36000|  0|   0|\n",
      "|rawatabhishek2012...|   10|36000|  0|   0|\n",
      "|indrajeetgajbhiye...|    9|32400| 55|3300|\n",
      "+--------------------+-----+-----+---+----+\n",
      "only showing top 20 rows\n",
      "\n"
     ]
    }
   ],
   "source": [
    "#Joining the dataframes\n",
    "df4 = x.join(Z, on = ['user_name'], how = 'inner')\n",
    "df4.show()"
   ]
  },
  {
   "cell_type": "code",
   "execution_count": 51,
   "metadata": {},
   "outputs": [
    {
     "name": "stdout",
     "output_type": "stream",
     "text": [
      "+--------------------+-----+-----+---+----+---+\n",
      "|           user_name|hours|  h_s|min| m_s|sec|\n",
      "+--------------------+-----+-----+---+----+---+\n",
      "|  rr582619@gmail.con|    9|32400| 35|2100|  1|\n",
      "| addyp1911@gmail.com|    9|32400| 35|2100|  2|\n",
      "|rohitsarate1027@g...|    9|32400| 35|2100|  1|\n",
      "|dipakalagate1991@...|    9|32400| 35|2100|  1|\n",
      "|shibadattanayak@g...|    9|32400| 35|2100|  1|\n",
      "|durganath123@outl...|    9|32400| 40|2400|  2|\n",
      "|vaibhavkhadke@gma...|    9|32400| 45|2700|  2|\n",
      "|gaikwadr576@gmail...|    9|32400| 50|3000|  1|\n",
      "|kalyani24deobhank...|    9|32400| 50|3000|  1|\n",
      "|dilipsoni199566@g...|    9|32400| 50|3000|  1|\n",
      "|surajwarbhuvan192...|    9|32400| 55|3300|  1|\n",
      "|tekina.makin@gmai...|    9|32400| 50|3000|  1|\n",
      "|priyankagandhi250...|    9|32400| 45|2700|  1|\n",
      "|mishrasushil889@g...|    9|32400| 55|3300|  2|\n",
      "| blsonalib@gmail.com|    9|32400| 40|2400|  1|\n",
      "|manoj.ks.24.mk@gm...|    9|32400| 40|2400|  1|\n",
      "|hakepratiksha55@g...|    9|32400| 55|3300|  1|\n",
      "|vaibhavpratihar17...|   10|36000|  0|   0|  1|\n",
      "|rawatabhishek2012...|   10|36000|  0|   0|  1|\n",
      "|indrajeetgajbhiye...|    9|32400| 55|3300|  1|\n",
      "+--------------------+-----+-----+---+----+---+\n",
      "only showing top 20 rows\n",
      "\n"
     ]
    }
   ],
   "source": [
    "df5 = df4.join(k, on = ['user_name'], how = 'inner') \n",
    "df5.show()"
   ]
  },
  {
   "cell_type": "code",
   "execution_count": 52,
   "metadata": {},
   "outputs": [
    {
     "name": "stdout",
     "output_type": "stream",
     "text": [
      "+-----+----+---+\n",
      "|  h_s| m_s|sec|\n",
      "+-----+----+---+\n",
      "|32400|2100|  1|\n",
      "|32400|2100|  2|\n",
      "|32400|2100|  1|\n",
      "|32400|2100|  1|\n",
      "|32400|2100|  1|\n",
      "|32400|2400|  2|\n",
      "|32400|2700|  2|\n",
      "|32400|3000|  1|\n",
      "|32400|3000|  1|\n",
      "|32400|3000|  1|\n",
      "|32400|3300|  1|\n",
      "|32400|3000|  1|\n",
      "|32400|2700|  1|\n",
      "|32400|3300|  2|\n",
      "|32400|2400|  1|\n",
      "|32400|2400|  1|\n",
      "|32400|3300|  1|\n",
      "|36000|   0|  1|\n",
      "|36000|   0|  1|\n",
      "|32400|3300|  1|\n",
      "+-----+----+---+\n",
      "only showing top 20 rows\n",
      "\n"
     ]
    }
   ],
   "source": [
    "df6 = df5.drop('user_name','hours', 'min')\n",
    "df6.show()"
   ]
  },
  {
   "cell_type": "code",
   "execution_count": 53,
   "metadata": {},
   "outputs": [
    {
     "name": "stdout",
     "output_type": "stream",
     "text": [
      "+-----+----+---+------------------+\n",
      "|  h_s| m_s|sec|        late_hours|\n",
      "+-----+----+---+------------------+\n",
      "|32400|2100|  1|  9.58361111111111|\n",
      "|32400|2100|  2|  9.58388888888889|\n",
      "|32400|2100|  1|  9.58361111111111|\n",
      "|32400|2100|  1|  9.58361111111111|\n",
      "|32400|2100|  1|  9.58361111111111|\n",
      "|32400|2400|  2| 9.667222222222222|\n",
      "|32400|2700|  2| 9.750555555555556|\n",
      "|32400|3000|  1|  9.83361111111111|\n",
      "|32400|3000|  1|  9.83361111111111|\n",
      "|32400|3000|  1|  9.83361111111111|\n",
      "|32400|3300|  1| 9.916944444444445|\n",
      "|32400|3000|  1|  9.83361111111111|\n",
      "|32400|2700|  1| 9.750277777777777|\n",
      "|32400|3300|  2| 9.917222222222222|\n",
      "|32400|2400|  1| 9.666944444444445|\n",
      "|32400|2400|  1| 9.666944444444445|\n",
      "|32400|3300|  1| 9.916944444444445|\n",
      "|36000|   0|  1|10.000277777777777|\n",
      "|36000|   0|  1|10.000277777777777|\n",
      "|32400|3300|  1| 9.916944444444445|\n",
      "+-----+----+---+------------------+\n",
      "only showing top 20 rows\n",
      "\n"
     ]
    }
   ],
   "source": [
    "df7 = df6.withColumn('late_hours', (df6['h_s'] + df6['m_s'] + df6['sec'])/3600)\n",
    "df7.show()"
   ]
  },
  {
   "cell_type": "code",
   "execution_count": 55,
   "metadata": {},
   "outputs": [
    {
     "name": "stdout",
     "output_type": "stream",
     "text": [
      "+------------------+\n",
      "|   avg(late_hours)|\n",
      "+------------------+\n",
      "|10.233694444444442|\n",
      "+------------------+\n",
      "\n"
     ]
    }
   ],
   "source": [
    "#calculating average hours\n",
    "average = df7.select(avg('late_hours'))\n",
    "latehours = average.show()\n",
    "latehours"
   ]
  },
  {
   "cell_type": "code",
   "execution_count": null,
   "metadata": {},
   "outputs": [],
   "source": []
  }
 ],
 "metadata": {
  "kernelspec": {
   "display_name": "Python 3",
   "language": "python",
   "name": "python3"
  },
  "language_info": {
   "codemirror_mode": {
    "name": "ipython",
    "version": 3
   },
   "file_extension": ".py",
   "mimetype": "text/x-python",
   "name": "python",
   "nbconvert_exporter": "python",
   "pygments_lexer": "ipython3",
   "version": "3.6.9"
  }
 },
 "nbformat": 4,
 "nbformat_minor": 4
}

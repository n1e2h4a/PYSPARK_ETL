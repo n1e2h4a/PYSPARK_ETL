{
 "cells": [
  {
   "cell_type": "code",
   "execution_count": 1,
   "metadata": {},
   "outputs": [],
   "source": [
    "from pyspark.sql.functions import hour,minute,second,col,avg,when\n",
    "\n",
    "import pyspark.sql.functions as sql_functions\n",
    "from pyspark.sql import SQLContext\n",
    "import datetime\n",
    "sqlContext = SQLContext(sc)"
   ]
  },
  {
   "cell_type": "code",
   "execution_count": 2,
   "metadata": {},
   "outputs": [],
   "source": [
    "df = sqlContext.read.csv(\"hdfs://localhost:54310/user/hive/warehouse/log_data/log_data.csv\",header = True, inferSchema = True)"
   ]
  },
  {
   "cell_type": "code",
   "execution_count": 3,
   "metadata": {},
   "outputs": [
    {
     "name": "stdout",
     "output_type": "stream",
     "text": [
      "+--------------------+-------------------+-------------------+-------------------+-------------------+\n",
      "|           user_name|          idle_time|      working_hours|         start_time|           end_time|\n",
      "+--------------------+-------------------+-------------------+-------------------+-------------------+\n",
      "|  sahil24c@gmail.com|2019-10-24 05:05:00|2019-10-24 05:50:00|2019-10-24 08:30:02|2019-10-24 19:25:02|\n",
      "|magadum.iranna@gm...|2019-10-24 02:15:00|2019-10-24 08:39:59|2019-10-24 08:30:02|2019-10-24 19:25:01|\n",
      "|  yathink3@gmail.com|2019-10-24 01:30:00|2019-10-24 09:24:59|2019-10-24 08:30:02|2019-10-24 19:25:01|\n",
      "|  shelkeva@gmail.com|2019-10-24 00:30:00|2019-10-24 09:10:01|2019-10-24 08:45:01|2019-10-24 18:25:02|\n",
      "|puruissimple@gmai...|2019-10-24 03:15:00|2019-10-24 07:19:59|2019-10-24 08:50:02|2019-10-24 19:25:01|\n",
      "|sangita.awaghad19...|2019-10-24 01:55:00|2019-10-24 08:40:00|2019-10-24 08:50:01|2019-10-24 19:25:01|\n",
      "|vaishusawant143@g...|2019-10-24 00:35:00|2019-10-24 09:55:00|2019-10-24 08:55:01|2019-10-24 19:25:01|\n",
      "|     you@example.com|2019-10-24 02:35:00|2019-10-24 08:04:59|2019-10-24 08:45:02|2019-10-24 19:25:01|\n",
      "|samadhanmahajan73...|2019-10-24 01:10:00|2019-10-24 08:39:59|2019-10-24 09:00:02|2019-10-24 18:50:01|\n",
      "|vishnu23kumar@gma...|2019-10-24 04:15:00|2019-10-24 06:10:00|2019-10-24 09:00:01|2019-10-24 19:25:01|\n",
      "|ashutoshrit64@gma...|2019-10-24 00:00:00|2019-10-24 10:25:01|2019-10-24 09:00:01|2019-10-24 19:25:02|\n",
      "|akshaybavalekar10...|2019-10-24 01:45:00|2019-10-24 08:35:00|2019-10-24 09:05:01|2019-10-24 19:25:01|\n",
      "|khairnarswapna99@...|2019-10-24 00:50:00|2019-10-24 09:25:00|2019-10-24 09:10:01|2019-10-24 19:25:01|\n",
      "|kukadeshilpaa7m95...|2019-10-24 00:35:00|2019-10-24 09:40:00|2019-10-24 09:10:01|2019-10-24 19:25:01|\n",
      "|sarikabarge111@gm...|2019-10-24 01:20:00|2019-10-24 08:45:00|2019-10-24 09:10:01|2019-10-24 19:15:01|\n",
      "|narsimharaj.kasu0...|2019-10-24 02:05:00|2019-10-24 08:05:00|2019-10-24 09:10:01|2019-10-24 19:20:01|\n",
      "|antonyalexcm@gmai...|2019-10-24 00:00:00|2019-10-24 10:15:00|2019-10-24 09:10:01|2019-10-24 19:25:01|\n",
      "|jitupatil937@gmai...|2019-10-24 00:55:00|2019-10-24 09:20:00|2019-10-24 09:10:01|2019-10-24 19:25:01|\n",
      "|akshaypatwari24@g...|2019-10-24 01:10:00|2019-10-24 09:05:00|2019-10-24 09:10:01|2019-10-24 19:25:01|\n",
      "|aheteshams007@gma...|2019-10-24 01:35:00|2019-10-24 08:50:01|2019-10-24 09:00:01|2019-10-24 19:25:02|\n",
      "+--------------------+-------------------+-------------------+-------------------+-------------------+\n",
      "only showing top 20 rows\n",
      "\n"
     ]
    }
   ],
   "source": [
    "df.show()"
   ]
  },
  {
   "cell_type": "code",
   "execution_count": 4,
   "metadata": {},
   "outputs": [
    {
     "name": "stdout",
     "output_type": "stream",
     "text": [
      "root\n",
      " |-- user_name: string (nullable = true)\n",
      " |-- idle_time: timestamp (nullable = true)\n",
      " |-- working_hours: timestamp (nullable = true)\n",
      " |-- start_time: timestamp (nullable = true)\n",
      " |-- end_time: timestamp (nullable = true)\n",
      "\n"
     ]
    }
   ],
   "source": [
    "df.printSchema()"
   ]
  },
  {
   "cell_type": "code",
   "execution_count": 5,
   "metadata": {},
   "outputs": [],
   "source": [
    "df1 = df.withColumn('hours', hour(df['start_time']))"
   ]
  },
  {
   "cell_type": "code",
   "execution_count": 6,
   "metadata": {},
   "outputs": [
    {
     "name": "stdout",
     "output_type": "stream",
     "text": [
      "+--------------------+-----+\n",
      "|           user_name|hours|\n",
      "+--------------------+-----+\n",
      "|  sahil24c@gmail.com|    8|\n",
      "|magadum.iranna@gm...|    8|\n",
      "|  yathink3@gmail.com|    8|\n",
      "|  shelkeva@gmail.com|    8|\n",
      "|puruissimple@gmai...|    8|\n",
      "|sangita.awaghad19...|    8|\n",
      "|vaishusawant143@g...|    8|\n",
      "|     you@example.com|    8|\n",
      "|samadhanmahajan73...|    9|\n",
      "|vishnu23kumar@gma...|    9|\n",
      "|ashutoshrit64@gma...|    9|\n",
      "|akshaybavalekar10...|    9|\n",
      "|khairnarswapna99@...|    9|\n",
      "|kukadeshilpaa7m95...|    9|\n",
      "|sarikabarge111@gm...|    9|\n",
      "|narsimharaj.kasu0...|    9|\n",
      "|antonyalexcm@gmai...|    9|\n",
      "|jitupatil937@gmai...|    9|\n",
      "|akshaypatwari24@g...|    9|\n",
      "|aheteshams007@gma...|    9|\n",
      "+--------------------+-----+\n",
      "only showing top 20 rows\n",
      "\n"
     ]
    }
   ],
   "source": [
    "x = df1.select('user_name','hours')\n",
    "x.show()"
   ]
  },
  {
   "cell_type": "code",
   "execution_count": 7,
   "metadata": {},
   "outputs": [
    {
     "name": "stdout",
     "output_type": "stream",
     "text": [
      "+--------------------+-----+-----+\n",
      "|           user_name|hours|  h_s|\n",
      "+--------------------+-----+-----+\n",
      "|  sahil24c@gmail.com|    8|28800|\n",
      "|magadum.iranna@gm...|    8|28800|\n",
      "|  yathink3@gmail.com|    8|28800|\n",
      "|  shelkeva@gmail.com|    8|28800|\n",
      "|puruissimple@gmai...|    8|28800|\n",
      "|sangita.awaghad19...|    8|28800|\n",
      "|vaishusawant143@g...|    8|28800|\n",
      "|     you@example.com|    8|28800|\n",
      "|samadhanmahajan73...|    9|32400|\n",
      "|vishnu23kumar@gma...|    9|32400|\n",
      "|ashutoshrit64@gma...|    9|32400|\n",
      "|akshaybavalekar10...|    9|32400|\n",
      "|khairnarswapna99@...|    9|32400|\n",
      "|kukadeshilpaa7m95...|    9|32400|\n",
      "|sarikabarge111@gm...|    9|32400|\n",
      "|narsimharaj.kasu0...|    9|32400|\n",
      "|antonyalexcm@gmai...|    9|32400|\n",
      "|jitupatil937@gmai...|    9|32400|\n",
      "|akshaypatwari24@g...|    9|32400|\n",
      "|aheteshams007@gma...|    9|32400|\n",
      "+--------------------+-----+-----+\n",
      "only showing top 20 rows\n",
      "\n"
     ]
    }
   ],
   "source": [
    "x = x.withColumn('h_s', x['hours'] * 3600)\n",
    "x.show()"
   ]
  },
  {
   "cell_type": "code",
   "execution_count": 8,
   "metadata": {},
   "outputs": [],
   "source": [
    "df2 = df.withColumn('min', minute(df['start_time']))"
   ]
  },
  {
   "cell_type": "code",
   "execution_count": 9,
   "metadata": {},
   "outputs": [],
   "source": [
    "y = df2.select('user_name', 'min')\n"
   ]
  },
  {
   "cell_type": "code",
   "execution_count": 10,
   "metadata": {},
   "outputs": [
    {
     "name": "stdout",
     "output_type": "stream",
     "text": [
      "+--------------------+---+----+\n",
      "|           user_name|min| m_s|\n",
      "+--------------------+---+----+\n",
      "|  sahil24c@gmail.com| 30|1800|\n",
      "|magadum.iranna@gm...| 30|1800|\n",
      "|  yathink3@gmail.com| 30|1800|\n",
      "|  shelkeva@gmail.com| 45|2700|\n",
      "|puruissimple@gmai...| 50|3000|\n",
      "|sangita.awaghad19...| 50|3000|\n",
      "|vaishusawant143@g...| 55|3300|\n",
      "|     you@example.com| 45|2700|\n",
      "|samadhanmahajan73...|  0|   0|\n",
      "|vishnu23kumar@gma...|  0|   0|\n",
      "|ashutoshrit64@gma...|  0|   0|\n",
      "|akshaybavalekar10...|  5| 300|\n",
      "|khairnarswapna99@...| 10| 600|\n",
      "|kukadeshilpaa7m95...| 10| 600|\n",
      "|sarikabarge111@gm...| 10| 600|\n",
      "|narsimharaj.kasu0...| 10| 600|\n",
      "|antonyalexcm@gmai...| 10| 600|\n",
      "|jitupatil937@gmai...| 10| 600|\n",
      "|akshaypatwari24@g...| 10| 600|\n",
      "|aheteshams007@gma...|  0|   0|\n",
      "+--------------------+---+----+\n",
      "only showing top 20 rows\n",
      "\n"
     ]
    }
   ],
   "source": [
    "y = y.withColumn('m_s', y['min'] * 60)\n",
    "y.show()"
   ]
  },
  {
   "cell_type": "code",
   "execution_count": 11,
   "metadata": {},
   "outputs": [],
   "source": [
    "df3 = df.withColumn('sec', second(df['start_time']))"
   ]
  },
  {
   "cell_type": "code",
   "execution_count": 12,
   "metadata": {},
   "outputs": [
    {
     "name": "stdout",
     "output_type": "stream",
     "text": [
      "+--------------------+---+\n",
      "|           user_name|sec|\n",
      "+--------------------+---+\n",
      "|  sahil24c@gmail.com|  2|\n",
      "|magadum.iranna@gm...|  2|\n",
      "|  yathink3@gmail.com|  2|\n",
      "|  shelkeva@gmail.com|  1|\n",
      "|puruissimple@gmai...|  2|\n",
      "|sangita.awaghad19...|  1|\n",
      "|vaishusawant143@g...|  1|\n",
      "|     you@example.com|  2|\n",
      "|samadhanmahajan73...|  2|\n",
      "|vishnu23kumar@gma...|  1|\n",
      "|ashutoshrit64@gma...|  1|\n",
      "|akshaybavalekar10...|  1|\n",
      "|khairnarswapna99@...|  1|\n",
      "|kukadeshilpaa7m95...|  1|\n",
      "|sarikabarge111@gm...|  1|\n",
      "|narsimharaj.kasu0...|  1|\n",
      "|antonyalexcm@gmai...|  1|\n",
      "|jitupatil937@gmai...|  1|\n",
      "|akshaypatwari24@g...|  1|\n",
      "|aheteshams007@gma...|  1|\n",
      "+--------------------+---+\n",
      "only showing top 20 rows\n",
      "\n"
     ]
    }
   ],
   "source": [
    "z = df3.select('user_name', 'sec')\n",
    "z.show()"
   ]
  },
  {
   "cell_type": "code",
   "execution_count": 13,
   "metadata": {},
   "outputs": [
    {
     "name": "stdout",
     "output_type": "stream",
     "text": [
      "+--------------------+-----+-----+---+----+\n",
      "|           user_name|hours|  h_s|min| m_s|\n",
      "+--------------------+-----+-----+---+----+\n",
      "|  sahil24c@gmail.com|    8|28800| 30|1800|\n",
      "|magadum.iranna@gm...|    8|28800| 30|1800|\n",
      "|  yathink3@gmail.com|    8|28800| 30|1800|\n",
      "|  shelkeva@gmail.com|    8|28800| 45|2700|\n",
      "|puruissimple@gmai...|    8|28800| 50|3000|\n",
      "|sangita.awaghad19...|    8|28800| 50|3000|\n",
      "|vaishusawant143@g...|    8|28800| 55|3300|\n",
      "|     you@example.com|    8|28800| 45|2700|\n",
      "|samadhanmahajan73...|    9|32400|  0|   0|\n",
      "|vishnu23kumar@gma...|    9|32400|  0|   0|\n",
      "|ashutoshrit64@gma...|    9|32400|  0|   0|\n",
      "|akshaybavalekar10...|    9|32400|  5| 300|\n",
      "|khairnarswapna99@...|    9|32400| 10| 600|\n",
      "|kukadeshilpaa7m95...|    9|32400| 10| 600|\n",
      "|sarikabarge111@gm...|    9|32400| 10| 600|\n",
      "|narsimharaj.kasu0...|    9|32400| 10| 600|\n",
      "|antonyalexcm@gmai...|    9|32400| 10| 600|\n",
      "|jitupatil937@gmai...|    9|32400| 10| 600|\n",
      "|akshaypatwari24@g...|    9|32400| 10| 600|\n",
      "|aheteshams007@gma...|    9|32400|  0|   0|\n",
      "+--------------------+-----+-----+---+----+\n",
      "only showing top 20 rows\n",
      "\n"
     ]
    }
   ],
   "source": [
    "#Joining the dataframes\n",
    "df4 = x.join(y, on = ['user_name'], how = 'inner')\n",
    "df4.show()"
   ]
  },
  {
   "cell_type": "code",
   "execution_count": 14,
   "metadata": {},
   "outputs": [
    {
     "name": "stdout",
     "output_type": "stream",
     "text": [
      "+--------------------+-----+-----+---+----+---+\n",
      "|           user_name|hours|  h_s|min| m_s|sec|\n",
      "+--------------------+-----+-----+---+----+---+\n",
      "|  sahil24c@gmail.com|    8|28800| 30|1800|  2|\n",
      "|magadum.iranna@gm...|    8|28800| 30|1800|  2|\n",
      "|  yathink3@gmail.com|    8|28800| 30|1800|  2|\n",
      "|  shelkeva@gmail.com|    8|28800| 45|2700|  1|\n",
      "|puruissimple@gmai...|    8|28800| 50|3000|  2|\n",
      "|sangita.awaghad19...|    8|28800| 50|3000|  1|\n",
      "|vaishusawant143@g...|    8|28800| 55|3300|  1|\n",
      "|     you@example.com|    8|28800| 45|2700|  2|\n",
      "|samadhanmahajan73...|    9|32400|  0|   0|  2|\n",
      "|vishnu23kumar@gma...|    9|32400|  0|   0|  1|\n",
      "|ashutoshrit64@gma...|    9|32400|  0|   0|  1|\n",
      "|akshaybavalekar10...|    9|32400|  5| 300|  1|\n",
      "|khairnarswapna99@...|    9|32400| 10| 600|  1|\n",
      "|kukadeshilpaa7m95...|    9|32400| 10| 600|  1|\n",
      "|sarikabarge111@gm...|    9|32400| 10| 600|  1|\n",
      "|narsimharaj.kasu0...|    9|32400| 10| 600|  1|\n",
      "|antonyalexcm@gmai...|    9|32400| 10| 600|  1|\n",
      "|jitupatil937@gmai...|    9|32400| 10| 600|  1|\n",
      "|akshaypatwari24@g...|    9|32400| 10| 600|  1|\n",
      "|aheteshams007@gma...|    9|32400|  0|   0|  1|\n",
      "+--------------------+-----+-----+---+----+---+\n",
      "only showing top 20 rows\n",
      "\n"
     ]
    }
   ],
   "source": [
    "df5 = df4.join(z, on = ['user_name'], how = 'inner') \n",
    "df5.show()"
   ]
  },
  {
   "cell_type": "code",
   "execution_count": 15,
   "metadata": {},
   "outputs": [
    {
     "name": "stdout",
     "output_type": "stream",
     "text": [
      "+--------------------+-----+----+---+\n",
      "|           user_name|  h_s| m_s|sec|\n",
      "+--------------------+-----+----+---+\n",
      "|  sahil24c@gmail.com|28800|1800|  2|\n",
      "|magadum.iranna@gm...|28800|1800|  2|\n",
      "|  yathink3@gmail.com|28800|1800|  2|\n",
      "|  shelkeva@gmail.com|28800|2700|  1|\n",
      "|puruissimple@gmai...|28800|3000|  2|\n",
      "|sangita.awaghad19...|28800|3000|  1|\n",
      "|vaishusawant143@g...|28800|3300|  1|\n",
      "|     you@example.com|28800|2700|  2|\n",
      "|samadhanmahajan73...|32400|   0|  2|\n",
      "|vishnu23kumar@gma...|32400|   0|  1|\n",
      "|ashutoshrit64@gma...|32400|   0|  1|\n",
      "|akshaybavalekar10...|32400| 300|  1|\n",
      "|khairnarswapna99@...|32400| 600|  1|\n",
      "|kukadeshilpaa7m95...|32400| 600|  1|\n",
      "|sarikabarge111@gm...|32400| 600|  1|\n",
      "|narsimharaj.kasu0...|32400| 600|  1|\n",
      "|antonyalexcm@gmai...|32400| 600|  1|\n",
      "|jitupatil937@gmai...|32400| 600|  1|\n",
      "|akshaypatwari24@g...|32400| 600|  1|\n",
      "|aheteshams007@gma...|32400|   0|  1|\n",
      "+--------------------+-----+----+---+\n",
      "only showing top 20 rows\n",
      "\n"
     ]
    }
   ],
   "source": [
    "df6 = df5.drop('hours', 'min')\n",
    "df6.show()"
   ]
  },
  {
   "cell_type": "code",
   "execution_count": 49,
   "metadata": {},
   "outputs": [
    {
     "name": "stdout",
     "output_type": "stream",
     "text": [
      "+--------------------+-----+----+---+-----------------+\n",
      "|           user_name|  h_s| m_s|sec|      start_hours|\n",
      "+--------------------+-----+----+---+-----------------+\n",
      "|  sahil24c@gmail.com|28800|1800|  2|8.500555555555556|\n",
      "|magadum.iranna@gm...|28800|1800|  2|8.500555555555556|\n",
      "|  yathink3@gmail.com|28800|1800|  2|8.500555555555556|\n",
      "|  shelkeva@gmail.com|28800|2700|  1|8.750277777777777|\n",
      "|puruissimple@gmai...|28800|3000|  2| 8.83388888888889|\n",
      "|sangita.awaghad19...|28800|3000|  1| 8.83361111111111|\n",
      "|vaishusawant143@g...|28800|3300|  1|8.916944444444445|\n",
      "|     you@example.com|28800|2700|  2|8.750555555555556|\n",
      "|samadhanmahajan73...|32400|   0|  2|9.000555555555556|\n",
      "|vishnu23kumar@gma...|32400|   0|  1|9.000277777777777|\n",
      "|ashutoshrit64@gma...|32400|   0|  1|9.000277777777777|\n",
      "|akshaybavalekar10...|32400| 300|  1| 9.08361111111111|\n",
      "|khairnarswapna99@...|32400| 600|  1|9.166944444444445|\n",
      "|kukadeshilpaa7m95...|32400| 600|  1|9.166944444444445|\n",
      "|sarikabarge111@gm...|32400| 600|  1|9.166944444444445|\n",
      "|narsimharaj.kasu0...|32400| 600|  1|9.166944444444445|\n",
      "|antonyalexcm@gmai...|32400| 600|  1|9.166944444444445|\n",
      "|jitupatil937@gmai...|32400| 600|  1|9.166944444444445|\n",
      "|akshaypatwari24@g...|32400| 600|  1|9.166944444444445|\n",
      "|aheteshams007@gma...|32400|   0|  1|9.000277777777777|\n",
      "+--------------------+-----+----+---+-----------------+\n",
      "only showing top 20 rows\n",
      "\n"
     ]
    }
   ],
   "source": [
    "df7 = df6.withColumn('start_hours', (df6['h_s'] + df6['m_s'] + df6['sec'])/3600)\n",
    "df7.show()"
   ]
  },
  {
   "cell_type": "code",
   "execution_count": 17,
   "metadata": {},
   "outputs": [],
   "source": [
    "df1 = df.withColumn('hours', hour(df['end_time']))"
   ]
  },
  {
   "cell_type": "code",
   "execution_count": 54,
   "metadata": {},
   "outputs": [
    {
     "name": "stdout",
     "output_type": "stream",
     "text": [
      "+--------------------+-----+\n",
      "|           user_name|hours|\n",
      "+--------------------+-----+\n",
      "|  sahil24c@gmail.com|   19|\n",
      "|magadum.iranna@gm...|   19|\n",
      "|  yathink3@gmail.com|   19|\n",
      "|  shelkeva@gmail.com|   18|\n",
      "|puruissimple@gmai...|   19|\n",
      "|sangita.awaghad19...|   19|\n",
      "|vaishusawant143@g...|   19|\n",
      "|     you@example.com|   19|\n",
      "|samadhanmahajan73...|   18|\n",
      "|vishnu23kumar@gma...|   19|\n",
      "|ashutoshrit64@gma...|   19|\n",
      "|akshaybavalekar10...|   19|\n",
      "|khairnarswapna99@...|   19|\n",
      "|kukadeshilpaa7m95...|   19|\n",
      "|sarikabarge111@gm...|   19|\n",
      "|narsimharaj.kasu0...|   19|\n",
      "|antonyalexcm@gmai...|   19|\n",
      "|jitupatil937@gmai...|   19|\n",
      "|akshaypatwari24@g...|   19|\n",
      "|aheteshams007@gma...|   19|\n",
      "+--------------------+-----+\n",
      "only showing top 20 rows\n",
      "\n"
     ]
    }
   ],
   "source": [
    "x = df1.select('user_name','hours')\n",
    "x.show()"
   ]
  },
  {
   "cell_type": "code",
   "execution_count": 19,
   "metadata": {},
   "outputs": [
    {
     "name": "stdout",
     "output_type": "stream",
     "text": [
      "+--------------------+-----+-----+\n",
      "|           user_name|hours|  h_s|\n",
      "+--------------------+-----+-----+\n",
      "|  sahil24c@gmail.com|   19|68400|\n",
      "|magadum.iranna@gm...|   19|68400|\n",
      "|  yathink3@gmail.com|   19|68400|\n",
      "|  shelkeva@gmail.com|   18|64800|\n",
      "|puruissimple@gmai...|   19|68400|\n",
      "|sangita.awaghad19...|   19|68400|\n",
      "|vaishusawant143@g...|   19|68400|\n",
      "|     you@example.com|   19|68400|\n",
      "|samadhanmahajan73...|   18|64800|\n",
      "|vishnu23kumar@gma...|   19|68400|\n",
      "|ashutoshrit64@gma...|   19|68400|\n",
      "|akshaybavalekar10...|   19|68400|\n",
      "|khairnarswapna99@...|   19|68400|\n",
      "|kukadeshilpaa7m95...|   19|68400|\n",
      "|sarikabarge111@gm...|   19|68400|\n",
      "|narsimharaj.kasu0...|   19|68400|\n",
      "|antonyalexcm@gmai...|   19|68400|\n",
      "|jitupatil937@gmai...|   19|68400|\n",
      "|akshaypatwari24@g...|   19|68400|\n",
      "|aheteshams007@gma...|   19|68400|\n",
      "+--------------------+-----+-----+\n",
      "only showing top 20 rows\n",
      "\n"
     ]
    }
   ],
   "source": [
    "x = x.withColumn('h_s', x['hours'] * 3600)\n",
    "x.show()"
   ]
  },
  {
   "cell_type": "code",
   "execution_count": 28,
   "metadata": {},
   "outputs": [],
   "source": [
    "df2 = df.withColumn('min', minute(df['end_time']))"
   ]
  },
  {
   "cell_type": "code",
   "execution_count": 29,
   "metadata": {},
   "outputs": [],
   "source": [
    "y = df2.select('user_name', 'min')"
   ]
  },
  {
   "cell_type": "code",
   "execution_count": 30,
   "metadata": {},
   "outputs": [
    {
     "name": "stdout",
     "output_type": "stream",
     "text": [
      "+--------------------+---+----+\n",
      "|           user_name|min| m_s|\n",
      "+--------------------+---+----+\n",
      "|  sahil24c@gmail.com| 25|1500|\n",
      "|magadum.iranna@gm...| 25|1500|\n",
      "|  yathink3@gmail.com| 25|1500|\n",
      "|  shelkeva@gmail.com| 25|1500|\n",
      "|puruissimple@gmai...| 25|1500|\n",
      "|sangita.awaghad19...| 25|1500|\n",
      "|vaishusawant143@g...| 25|1500|\n",
      "|     you@example.com| 25|1500|\n",
      "|samadhanmahajan73...| 50|3000|\n",
      "|vishnu23kumar@gma...| 25|1500|\n",
      "|ashutoshrit64@gma...| 25|1500|\n",
      "|akshaybavalekar10...| 25|1500|\n",
      "|khairnarswapna99@...| 25|1500|\n",
      "|kukadeshilpaa7m95...| 25|1500|\n",
      "|sarikabarge111@gm...| 15| 900|\n",
      "|narsimharaj.kasu0...| 20|1200|\n",
      "|antonyalexcm@gmai...| 25|1500|\n",
      "|jitupatil937@gmai...| 25|1500|\n",
      "|akshaypatwari24@g...| 25|1500|\n",
      "|aheteshams007@gma...| 25|1500|\n",
      "+--------------------+---+----+\n",
      "only showing top 20 rows\n",
      "\n"
     ]
    }
   ],
   "source": [
    "y = y.withColumn('m_s', y['min'] * 60)\n",
    "y.show()"
   ]
  },
  {
   "cell_type": "code",
   "execution_count": 23,
   "metadata": {},
   "outputs": [],
   "source": [
    "df3 = df.withColumn('sec', second(df['end_time']))"
   ]
  },
  {
   "cell_type": "code",
   "execution_count": 31,
   "metadata": {},
   "outputs": [
    {
     "name": "stdout",
     "output_type": "stream",
     "text": [
      "+--------------------+---+\n",
      "|           user_name|sec|\n",
      "+--------------------+---+\n",
      "|  sahil24c@gmail.com|  2|\n",
      "|magadum.iranna@gm...|  1|\n",
      "|  yathink3@gmail.com|  1|\n",
      "|  shelkeva@gmail.com|  2|\n",
      "|puruissimple@gmai...|  1|\n",
      "|sangita.awaghad19...|  1|\n",
      "|vaishusawant143@g...|  1|\n",
      "|     you@example.com|  1|\n",
      "|samadhanmahajan73...|  1|\n",
      "|vishnu23kumar@gma...|  1|\n",
      "|ashutoshrit64@gma...|  2|\n",
      "|akshaybavalekar10...|  1|\n",
      "|khairnarswapna99@...|  1|\n",
      "|kukadeshilpaa7m95...|  1|\n",
      "|sarikabarge111@gm...|  1|\n",
      "|narsimharaj.kasu0...|  1|\n",
      "|antonyalexcm@gmai...|  1|\n",
      "|jitupatil937@gmai...|  1|\n",
      "|akshaypatwari24@g...|  1|\n",
      "|aheteshams007@gma...|  2|\n",
      "+--------------------+---+\n",
      "only showing top 20 rows\n",
      "\n"
     ]
    }
   ],
   "source": [
    "z = df3.select('user_name', 'sec')\n",
    "z.show()"
   ]
  },
  {
   "cell_type": "code",
   "execution_count": 32,
   "metadata": {},
   "outputs": [
    {
     "name": "stdout",
     "output_type": "stream",
     "text": [
      "+--------------------+-----+-----+---+----+\n",
      "|           user_name|hours|  h_s|min| m_s|\n",
      "+--------------------+-----+-----+---+----+\n",
      "|  sahil24c@gmail.com|   19|68400| 25|1500|\n",
      "|magadum.iranna@gm...|   19|68400| 25|1500|\n",
      "|  yathink3@gmail.com|   19|68400| 25|1500|\n",
      "|  shelkeva@gmail.com|   18|64800| 25|1500|\n",
      "|puruissimple@gmai...|   19|68400| 25|1500|\n",
      "|sangita.awaghad19...|   19|68400| 25|1500|\n",
      "|vaishusawant143@g...|   19|68400| 25|1500|\n",
      "|     you@example.com|   19|68400| 25|1500|\n",
      "|samadhanmahajan73...|   18|64800| 50|3000|\n",
      "|vishnu23kumar@gma...|   19|68400| 25|1500|\n",
      "|ashutoshrit64@gma...|   19|68400| 25|1500|\n",
      "|akshaybavalekar10...|   19|68400| 25|1500|\n",
      "|khairnarswapna99@...|   19|68400| 25|1500|\n",
      "|kukadeshilpaa7m95...|   19|68400| 25|1500|\n",
      "|sarikabarge111@gm...|   19|68400| 15| 900|\n",
      "|narsimharaj.kasu0...|   19|68400| 20|1200|\n",
      "|antonyalexcm@gmai...|   19|68400| 25|1500|\n",
      "|jitupatil937@gmai...|   19|68400| 25|1500|\n",
      "|akshaypatwari24@g...|   19|68400| 25|1500|\n",
      "|aheteshams007@gma...|   19|68400| 25|1500|\n",
      "+--------------------+-----+-----+---+----+\n",
      "only showing top 20 rows\n",
      "\n"
     ]
    }
   ],
   "source": [
    "#Joining the dataframes\n",
    "df4 = x.join(y, on = ['user_name'], how = 'inner')\n",
    "df4.show()"
   ]
  },
  {
   "cell_type": "code",
   "execution_count": 33,
   "metadata": {},
   "outputs": [
    {
     "name": "stdout",
     "output_type": "stream",
     "text": [
      "+--------------------+-----+----+---+\n",
      "|           user_name|  h_s| m_s|sec|\n",
      "+--------------------+-----+----+---+\n",
      "|  sahil24c@gmail.com|28800|1800|  2|\n",
      "|magadum.iranna@gm...|28800|1800|  2|\n",
      "|  yathink3@gmail.com|28800|1800|  2|\n",
      "|  shelkeva@gmail.com|28800|2700|  1|\n",
      "|puruissimple@gmai...|28800|3000|  2|\n",
      "|sangita.awaghad19...|28800|3000|  1|\n",
      "|vaishusawant143@g...|28800|3300|  1|\n",
      "|     you@example.com|28800|2700|  2|\n",
      "|samadhanmahajan73...|32400|   0|  2|\n",
      "|vishnu23kumar@gma...|32400|   0|  1|\n",
      "|ashutoshrit64@gma...|32400|   0|  1|\n",
      "|akshaybavalekar10...|32400| 300|  1|\n",
      "|khairnarswapna99@...|32400| 600|  1|\n",
      "|kukadeshilpaa7m95...|32400| 600|  1|\n",
      "|sarikabarge111@gm...|32400| 600|  1|\n",
      "|narsimharaj.kasu0...|32400| 600|  1|\n",
      "|antonyalexcm@gmai...|32400| 600|  1|\n",
      "|jitupatil937@gmai...|32400| 600|  1|\n",
      "|akshaypatwari24@g...|32400| 600|  1|\n",
      "|aheteshams007@gma...|32400|   0|  1|\n",
      "+--------------------+-----+----+---+\n",
      "only showing top 20 rows\n",
      "\n"
     ]
    }
   ],
   "source": [
    "df6 = df5.drop('hours', 'min')\n",
    "df6.show()"
   ]
  },
  {
   "cell_type": "code",
   "execution_count": 55,
   "metadata": {},
   "outputs": [
    {
     "name": "stdout",
     "output_type": "stream",
     "text": [
      "+--------------------+-----+----+---+-----------------+\n",
      "|           user_name|  h_s| m_s|sec|        end_hours|\n",
      "+--------------------+-----+----+---+-----------------+\n",
      "|  sahil24c@gmail.com|28800|1800|  2|8.500555555555556|\n",
      "|magadum.iranna@gm...|28800|1800|  2|8.500555555555556|\n",
      "|  yathink3@gmail.com|28800|1800|  2|8.500555555555556|\n",
      "|  shelkeva@gmail.com|28800|2700|  1|8.750277777777777|\n",
      "|puruissimple@gmai...|28800|3000|  2| 8.83388888888889|\n",
      "|sangita.awaghad19...|28800|3000|  1| 8.83361111111111|\n",
      "|vaishusawant143@g...|28800|3300|  1|8.916944444444445|\n",
      "|     you@example.com|28800|2700|  2|8.750555555555556|\n",
      "|samadhanmahajan73...|32400|   0|  2|9.000555555555556|\n",
      "|vishnu23kumar@gma...|32400|   0|  1|9.000277777777777|\n",
      "|ashutoshrit64@gma...|32400|   0|  1|9.000277777777777|\n",
      "|akshaybavalekar10...|32400| 300|  1| 9.08361111111111|\n",
      "|khairnarswapna99@...|32400| 600|  1|9.166944444444445|\n",
      "|kukadeshilpaa7m95...|32400| 600|  1|9.166944444444445|\n",
      "|sarikabarge111@gm...|32400| 600|  1|9.166944444444445|\n",
      "|narsimharaj.kasu0...|32400| 600|  1|9.166944444444445|\n",
      "|antonyalexcm@gmai...|32400| 600|  1|9.166944444444445|\n",
      "|jitupatil937@gmai...|32400| 600|  1|9.166944444444445|\n",
      "|akshaypatwari24@g...|32400| 600|  1|9.166944444444445|\n",
      "|aheteshams007@gma...|32400|   0|  1|9.000277777777777|\n",
      "+--------------------+-----+----+---+-----------------+\n",
      "only showing top 20 rows\n",
      "\n"
     ]
    }
   ],
   "source": [
    "df8 = df6.withColumn('end_hours', (df6['h_s'] + df6['m_s'] + df6['sec'])/3600)\n",
    "df8.show()"
   ]
  },
  {
   "cell_type": "code",
   "execution_count": 50,
   "metadata": {},
   "outputs": [
    {
     "name": "stdout",
     "output_type": "stream",
     "text": [
      "+--------------------+-----------------+\n",
      "|           user_name|      start_hours|\n",
      "+--------------------+-----------------+\n",
      "|  sahil24c@gmail.com|8.500555555555556|\n",
      "|magadum.iranna@gm...|8.500555555555556|\n",
      "|  yathink3@gmail.com|8.500555555555556|\n",
      "|  shelkeva@gmail.com|8.750277777777777|\n",
      "|puruissimple@gmai...| 8.83388888888889|\n",
      "|sangita.awaghad19...| 8.83361111111111|\n",
      "|vaishusawant143@g...|8.916944444444445|\n",
      "|     you@example.com|8.750555555555556|\n",
      "|samadhanmahajan73...|9.000555555555556|\n",
      "|vishnu23kumar@gma...|9.000277777777777|\n",
      "|ashutoshrit64@gma...|9.000277777777777|\n",
      "|akshaybavalekar10...| 9.08361111111111|\n",
      "|khairnarswapna99@...|9.166944444444445|\n",
      "|kukadeshilpaa7m95...|9.166944444444445|\n",
      "|sarikabarge111@gm...|9.166944444444445|\n",
      "|narsimharaj.kasu0...|9.166944444444445|\n",
      "|antonyalexcm@gmai...|9.166944444444445|\n",
      "|jitupatil937@gmai...|9.166944444444445|\n",
      "|akshaypatwari24@g...|9.166944444444445|\n",
      "|aheteshams007@gma...|9.000277777777777|\n",
      "+--------------------+-----------------+\n",
      "only showing top 20 rows\n",
      "\n"
     ]
    }
   ],
   "source": [
    "df9 = df7.select(\"user_name\",\"start_hours\")\n",
    "df9.show()"
   ]
  },
  {
   "cell_type": "code",
   "execution_count": 57,
   "metadata": {},
   "outputs": [
    {
     "name": "stdout",
     "output_type": "stream",
     "text": [
      "+--------------------+-----------------+\n",
      "|           user_name|        end_hours|\n",
      "+--------------------+-----------------+\n",
      "|  sahil24c@gmail.com|8.500555555555556|\n",
      "|magadum.iranna@gm...|8.500555555555556|\n",
      "|  yathink3@gmail.com|8.500555555555556|\n",
      "|  shelkeva@gmail.com|8.750277777777777|\n",
      "|puruissimple@gmai...| 8.83388888888889|\n",
      "|sangita.awaghad19...| 8.83361111111111|\n",
      "|vaishusawant143@g...|8.916944444444445|\n",
      "|     you@example.com|8.750555555555556|\n",
      "|samadhanmahajan73...|9.000555555555556|\n",
      "|vishnu23kumar@gma...|9.000277777777777|\n",
      "|ashutoshrit64@gma...|9.000277777777777|\n",
      "|akshaybavalekar10...| 9.08361111111111|\n",
      "|khairnarswapna99@...|9.166944444444445|\n",
      "|kukadeshilpaa7m95...|9.166944444444445|\n",
      "|sarikabarge111@gm...|9.166944444444445|\n",
      "|narsimharaj.kasu0...|9.166944444444445|\n",
      "|antonyalexcm@gmai...|9.166944444444445|\n",
      "|jitupatil937@gmai...|9.166944444444445|\n",
      "|akshaypatwari24@g...|9.166944444444445|\n",
      "|aheteshams007@gma...|9.000277777777777|\n",
      "+--------------------+-----------------+\n",
      "only showing top 20 rows\n",
      "\n"
     ]
    }
   ],
   "source": [
    "df10 = df8.select(\"user_name\",\"end_hours\")\n",
    "df10.show()"
   ]
  },
  {
   "cell_type": "code",
   "execution_count": 59,
   "metadata": {},
   "outputs": [
    {
     "name": "stdout",
     "output_type": "stream",
     "text": [
      "+--------------------+------------------+------------------+\n",
      "|           user_name|       start_hours|         end_hours|\n",
      "+--------------------+------------------+------------------+\n",
      "|ashutoshrit64@gma...| 9.000277777777777| 9.000277777777777|\n",
      "|giridhardandikwar...|10.667222222222222|10.667222222222222|\n",
      "|       nikitapawar17|11.250555555555556|11.250555555555556|\n",
      "|salinabodale73@gm...|10.250277777777777|10.250277777777777|\n",
      "|mail2anik.officia...| 8.500277777777777| 8.500277777777777|\n",
      "|“shivnajalisangal...| 9.500277777777777| 9.500277777777777|\n",
      "|indrajeetgajbhiye...| 9.916944444444445| 9.916944444444445|\n",
      "|khairnarswapna99@...| 9.166944444444445| 9.166944444444445|\n",
      "|aman.raj251@gmail...| 10.33361111111111| 10.33361111111111|\n",
      "|Krushnanikam26@gm...| 10.33361111111111| 10.33361111111111|\n",
      "|gaikwadr576@gmail...|  9.83361111111111|  9.83361111111111|\n",
      "|adikumar2514@gmai...|10.250555555555556|10.250555555555556|\n",
      "|magadum.iranna@gm...| 8.500555555555556| 8.500555555555556|\n",
      "| dileep.bs@yahoo.com|10.250277777777777|10.250277777777777|\n",
      "|puruissimple@gmai...|  8.83388888888889|  8.83388888888889|\n",
      "|er.mukulvij96@gma...|10.167222222222222|10.167222222222222|\n",
      "|prajktasraut16@gm...| 9.417222222222222| 9.417222222222222|\n",
      "|samruddhichitnis0...|  9.33361111111111|  9.33361111111111|\n",
      "|surajwarbhuvan192...| 9.916944444444445| 9.916944444444445|\n",
      "|hakepratiksha55@g...| 9.916944444444445| 9.916944444444445|\n",
      "+--------------------+------------------+------------------+\n",
      "only showing top 20 rows\n",
      "\n"
     ]
    }
   ],
   "source": [
    "#Joining the dataframes\n",
    "df30 = df9.join(df10, on = ['user_name'], how = 'inner')\n",
    "df30.show()"
   ]
  },
  {
   "cell_type": "code",
   "execution_count": 61,
   "metadata": {},
   "outputs": [
    {
     "name": "stdout",
     "output_type": "stream",
     "text": [
      "+--------------------+------------------+------------------+------------------+\n",
      "|           user_name|       start_hours|         end_hours|        Time_Spent|\n",
      "+--------------------+------------------+------------------+------------------+\n",
      "|ashutoshrit64@gma...| 9.000277777777777| 9.000277777777777|18.000555555555554|\n",
      "|giridhardandikwar...|10.667222222222222|10.667222222222222|21.334444444444443|\n",
      "|       nikitapawar17|11.250555555555556|11.250555555555556| 22.50111111111111|\n",
      "|salinabodale73@gm...|10.250277777777777|10.250277777777777|20.500555555555554|\n",
      "|mail2anik.officia...| 8.500277777777777| 8.500277777777777|17.000555555555554|\n",
      "|“shivnajalisangal...| 9.500277777777777| 9.500277777777777|19.000555555555554|\n",
      "|indrajeetgajbhiye...| 9.916944444444445| 9.916944444444445| 19.83388888888889|\n",
      "|khairnarswapna99@...| 9.166944444444445| 9.166944444444445| 18.33388888888889|\n",
      "|aman.raj251@gmail...| 10.33361111111111| 10.33361111111111| 20.66722222222222|\n",
      "|Krushnanikam26@gm...| 10.33361111111111| 10.33361111111111| 20.66722222222222|\n",
      "|gaikwadr576@gmail...|  9.83361111111111|  9.83361111111111| 19.66722222222222|\n",
      "|adikumar2514@gmai...|10.250555555555556|10.250555555555556| 20.50111111111111|\n",
      "|magadum.iranna@gm...| 8.500555555555556| 8.500555555555556| 17.00111111111111|\n",
      "| dileep.bs@yahoo.com|10.250277777777777|10.250277777777777|20.500555555555554|\n",
      "|puruissimple@gmai...|  8.83388888888889|  8.83388888888889| 17.66777777777778|\n",
      "|er.mukulvij96@gma...|10.167222222222222|10.167222222222222|20.334444444444443|\n",
      "|prajktasraut16@gm...| 9.417222222222222| 9.417222222222222|18.834444444444443|\n",
      "|samruddhichitnis0...|  9.33361111111111|  9.33361111111111| 18.66722222222222|\n",
      "|surajwarbhuvan192...| 9.916944444444445| 9.916944444444445| 19.83388888888889|\n",
      "|hakepratiksha55@g...| 9.916944444444445| 9.916944444444445| 19.83388888888889|\n",
      "+--------------------+------------------+------------------+------------------+\n",
      "only showing top 20 rows\n",
      "\n"
     ]
    }
   ],
   "source": [
    "df31 = df30.withColumn('Time_Spent', (df30['start_hours'] + df30['end_hours']))\n",
    "df31.show()"
   ]
  },
  {
   "cell_type": "code",
   "execution_count": 62,
   "metadata": {},
   "outputs": [
    {
     "name": "stdout",
     "output_type": "stream",
     "text": [
      "+-----------------+\n",
      "|  avg(Time_Spent)|\n",
      "+-----------------+\n",
      "|19.51402777777778|\n",
      "+-----------------+\n",
      "\n"
     ]
    }
   ],
   "source": [
    "#calculating average hours\n",
    "average = df31.select(avg('Time_Spent'))\n",
    "average.show()"
   ]
  },
  {
   "cell_type": "code",
   "execution_count": null,
   "metadata": {},
   "outputs": [],
   "source": []
  }
 ],
 "metadata": {
  "kernelspec": {
   "display_name": "Python 3",
   "language": "python",
   "name": "python3"
  },
  "language_info": {
   "codemirror_mode": {
    "name": "ipython",
    "version": 3
   },
   "file_extension": ".py",
   "mimetype": "text/x-python",
   "name": "python",
   "nbconvert_exporter": "python",
   "pygments_lexer": "ipython3",
   "version": "3.6.9"
  }
 },
 "nbformat": 4,
 "nbformat_minor": 4
}
